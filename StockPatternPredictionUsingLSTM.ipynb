{
  "nbformat": 4,
  "nbformat_minor": 0,
  "metadata": {
    "colab": {
      "provenance": [],
      "gpuType": "T4",
      "authorship_tag": "ABX9TyOko6BVogLzgZKI+/NQcNe+",
      "include_colab_link": true
    },
    "kernelspec": {
      "name": "python3",
      "display_name": "Python 3"
    },
    "language_info": {
      "name": "python"
    },
    "accelerator": "GPU"
  },
  "cells": [
    {
      "cell_type": "markdown",
      "metadata": {
        "id": "view-in-github",
        "colab_type": "text"
      },
      "source": [
        "<a href=\"https://colab.research.google.com/github/dinesh-saka/Stock-Pattern-Prediction-Using-LSTM/blob/main/StockPatternPredictionUsingLSTM.ipynb\" target=\"_parent\"><img src=\"https://colab.research.google.com/assets/colab-badge.svg\" alt=\"Open In Colab\"/></a>"
      ]
    },
    {
      "cell_type": "code",
      "execution_count": 24,
      "metadata": {
        "id": "7whUFjhVO65X"
      },
      "outputs": [],
      "source": [
        "!pip install tensorflow -qqq\n",
        "!pip install keras -qqq\n",
        "!pip install yfinance -qqq"
      ]
    },
    {
      "cell_type": "code",
      "source": [
        "import tensorflow as tf\n",
        "import keras\n",
        "import yfinance as yf\n",
        "import numpy as np\n",
        "import pandas as pd\n",
        "import matplotlib.pyplot as plt\n",
        "\n",
        "# Check TensorFlow version\n",
        "print(\"TensorFlow Version: \", tf.__version__)"
      ],
      "metadata": {
        "colab": {
          "base_uri": "https://localhost:8080/"
        },
        "id": "j9BxSXEXPJzG",
        "outputId": "fac73207-0261-4a17-e4b5-1f1b1fb7a6ba"
      },
      "execution_count": 25,
      "outputs": [
        {
          "output_type": "stream",
          "name": "stdout",
          "text": [
            "TensorFlow Version:  2.15.0\n"
          ]
        }
      ]
    },
    {
      "cell_type": "code",
      "source": [
        "# Fetch AAPL data\n",
        "aapl_data = yf.download('AAPL', start='2019-01-01', end='2024-01-01')\n",
        "\n",
        "# Display the first few rows of the dataframe\n",
        "aapl_data.head()"
      ],
      "metadata": {
        "colab": {
          "base_uri": "https://localhost:8080/",
          "height": 255
        },
        "id": "9uiRhZDsPWtX",
        "outputId": "c7667aea-6dc4-405e-efcb-e7d02ba057c7"
      },
      "execution_count": 26,
      "outputs": [
        {
          "output_type": "stream",
          "name": "stderr",
          "text": [
            "\r[*********************100%%**********************]  1 of 1 completed\n"
          ]
        },
        {
          "output_type": "execute_result",
          "data": {
            "text/plain": [
              "                 Open       High        Low      Close  Adj Close     Volume\n",
              "Date                                                                        \n",
              "2019-01-02  38.722500  39.712502  38.557499  39.480000  37.793781  148158800\n",
              "2019-01-03  35.994999  36.430000  35.500000  35.547501  34.029243  365248800\n",
              "2019-01-04  36.132500  37.137501  35.950001  37.064999  35.481930  234428400\n",
              "2019-01-07  37.174999  37.207500  36.474998  36.982498  35.402946  219111200\n",
              "2019-01-08  37.389999  37.955002  37.130001  37.687500  36.077843  164101200"
            ],
            "text/html": [
              "\n",
              "  <div id=\"df-da81cc2d-05a3-4734-b400-618cd8f9b52a\" class=\"colab-df-container\">\n",
              "    <div>\n",
              "<style scoped>\n",
              "    .dataframe tbody tr th:only-of-type {\n",
              "        vertical-align: middle;\n",
              "    }\n",
              "\n",
              "    .dataframe tbody tr th {\n",
              "        vertical-align: top;\n",
              "    }\n",
              "\n",
              "    .dataframe thead th {\n",
              "        text-align: right;\n",
              "    }\n",
              "</style>\n",
              "<table border=\"1\" class=\"dataframe\">\n",
              "  <thead>\n",
              "    <tr style=\"text-align: right;\">\n",
              "      <th></th>\n",
              "      <th>Open</th>\n",
              "      <th>High</th>\n",
              "      <th>Low</th>\n",
              "      <th>Close</th>\n",
              "      <th>Adj Close</th>\n",
              "      <th>Volume</th>\n",
              "    </tr>\n",
              "    <tr>\n",
              "      <th>Date</th>\n",
              "      <th></th>\n",
              "      <th></th>\n",
              "      <th></th>\n",
              "      <th></th>\n",
              "      <th></th>\n",
              "      <th></th>\n",
              "    </tr>\n",
              "  </thead>\n",
              "  <tbody>\n",
              "    <tr>\n",
              "      <th>2019-01-02</th>\n",
              "      <td>38.722500</td>\n",
              "      <td>39.712502</td>\n",
              "      <td>38.557499</td>\n",
              "      <td>39.480000</td>\n",
              "      <td>37.793781</td>\n",
              "      <td>148158800</td>\n",
              "    </tr>\n",
              "    <tr>\n",
              "      <th>2019-01-03</th>\n",
              "      <td>35.994999</td>\n",
              "      <td>36.430000</td>\n",
              "      <td>35.500000</td>\n",
              "      <td>35.547501</td>\n",
              "      <td>34.029243</td>\n",
              "      <td>365248800</td>\n",
              "    </tr>\n",
              "    <tr>\n",
              "      <th>2019-01-04</th>\n",
              "      <td>36.132500</td>\n",
              "      <td>37.137501</td>\n",
              "      <td>35.950001</td>\n",
              "      <td>37.064999</td>\n",
              "      <td>35.481930</td>\n",
              "      <td>234428400</td>\n",
              "    </tr>\n",
              "    <tr>\n",
              "      <th>2019-01-07</th>\n",
              "      <td>37.174999</td>\n",
              "      <td>37.207500</td>\n",
              "      <td>36.474998</td>\n",
              "      <td>36.982498</td>\n",
              "      <td>35.402946</td>\n",
              "      <td>219111200</td>\n",
              "    </tr>\n",
              "    <tr>\n",
              "      <th>2019-01-08</th>\n",
              "      <td>37.389999</td>\n",
              "      <td>37.955002</td>\n",
              "      <td>37.130001</td>\n",
              "      <td>37.687500</td>\n",
              "      <td>36.077843</td>\n",
              "      <td>164101200</td>\n",
              "    </tr>\n",
              "  </tbody>\n",
              "</table>\n",
              "</div>\n",
              "    <div class=\"colab-df-buttons\">\n",
              "\n",
              "  <div class=\"colab-df-container\">\n",
              "    <button class=\"colab-df-convert\" onclick=\"convertToInteractive('df-da81cc2d-05a3-4734-b400-618cd8f9b52a')\"\n",
              "            title=\"Convert this dataframe to an interactive table.\"\n",
              "            style=\"display:none;\">\n",
              "\n",
              "  <svg xmlns=\"http://www.w3.org/2000/svg\" height=\"24px\" viewBox=\"0 -960 960 960\">\n",
              "    <path d=\"M120-120v-720h720v720H120Zm60-500h600v-160H180v160Zm220 220h160v-160H400v160Zm0 220h160v-160H400v160ZM180-400h160v-160H180v160Zm440 0h160v-160H620v160ZM180-180h160v-160H180v160Zm440 0h160v-160H620v160Z\"/>\n",
              "  </svg>\n",
              "    </button>\n",
              "\n",
              "  <style>\n",
              "    .colab-df-container {\n",
              "      display:flex;\n",
              "      gap: 12px;\n",
              "    }\n",
              "\n",
              "    .colab-df-convert {\n",
              "      background-color: #E8F0FE;\n",
              "      border: none;\n",
              "      border-radius: 50%;\n",
              "      cursor: pointer;\n",
              "      display: none;\n",
              "      fill: #1967D2;\n",
              "      height: 32px;\n",
              "      padding: 0 0 0 0;\n",
              "      width: 32px;\n",
              "    }\n",
              "\n",
              "    .colab-df-convert:hover {\n",
              "      background-color: #E2EBFA;\n",
              "      box-shadow: 0px 1px 2px rgba(60, 64, 67, 0.3), 0px 1px 3px 1px rgba(60, 64, 67, 0.15);\n",
              "      fill: #174EA6;\n",
              "    }\n",
              "\n",
              "    .colab-df-buttons div {\n",
              "      margin-bottom: 4px;\n",
              "    }\n",
              "\n",
              "    [theme=dark] .colab-df-convert {\n",
              "      background-color: #3B4455;\n",
              "      fill: #D2E3FC;\n",
              "    }\n",
              "\n",
              "    [theme=dark] .colab-df-convert:hover {\n",
              "      background-color: #434B5C;\n",
              "      box-shadow: 0px 1px 3px 1px rgba(0, 0, 0, 0.15);\n",
              "      filter: drop-shadow(0px 1px 2px rgba(0, 0, 0, 0.3));\n",
              "      fill: #FFFFFF;\n",
              "    }\n",
              "  </style>\n",
              "\n",
              "    <script>\n",
              "      const buttonEl =\n",
              "        document.querySelector('#df-da81cc2d-05a3-4734-b400-618cd8f9b52a button.colab-df-convert');\n",
              "      buttonEl.style.display =\n",
              "        google.colab.kernel.accessAllowed ? 'block' : 'none';\n",
              "\n",
              "      async function convertToInteractive(key) {\n",
              "        const element = document.querySelector('#df-da81cc2d-05a3-4734-b400-618cd8f9b52a');\n",
              "        const dataTable =\n",
              "          await google.colab.kernel.invokeFunction('convertToInteractive',\n",
              "                                                    [key], {});\n",
              "        if (!dataTable) return;\n",
              "\n",
              "        const docLinkHtml = 'Like what you see? Visit the ' +\n",
              "          '<a target=\"_blank\" href=https://colab.research.google.com/notebooks/data_table.ipynb>data table notebook</a>'\n",
              "          + ' to learn more about interactive tables.';\n",
              "        element.innerHTML = '';\n",
              "        dataTable['output_type'] = 'display_data';\n",
              "        await google.colab.output.renderOutput(dataTable, element);\n",
              "        const docLink = document.createElement('div');\n",
              "        docLink.innerHTML = docLinkHtml;\n",
              "        element.appendChild(docLink);\n",
              "      }\n",
              "    </script>\n",
              "  </div>\n",
              "\n",
              "\n",
              "<div id=\"df-917a0cf7-4a03-40d5-be1e-d1390a04c749\">\n",
              "  <button class=\"colab-df-quickchart\" onclick=\"quickchart('df-917a0cf7-4a03-40d5-be1e-d1390a04c749')\"\n",
              "            title=\"Suggest charts\"\n",
              "            style=\"display:none;\">\n",
              "\n",
              "<svg xmlns=\"http://www.w3.org/2000/svg\" height=\"24px\"viewBox=\"0 0 24 24\"\n",
              "     width=\"24px\">\n",
              "    <g>\n",
              "        <path d=\"M19 3H5c-1.1 0-2 .9-2 2v14c0 1.1.9 2 2 2h14c1.1 0 2-.9 2-2V5c0-1.1-.9-2-2-2zM9 17H7v-7h2v7zm4 0h-2V7h2v10zm4 0h-2v-4h2v4z\"/>\n",
              "    </g>\n",
              "</svg>\n",
              "  </button>\n",
              "\n",
              "<style>\n",
              "  .colab-df-quickchart {\n",
              "      --bg-color: #E8F0FE;\n",
              "      --fill-color: #1967D2;\n",
              "      --hover-bg-color: #E2EBFA;\n",
              "      --hover-fill-color: #174EA6;\n",
              "      --disabled-fill-color: #AAA;\n",
              "      --disabled-bg-color: #DDD;\n",
              "  }\n",
              "\n",
              "  [theme=dark] .colab-df-quickchart {\n",
              "      --bg-color: #3B4455;\n",
              "      --fill-color: #D2E3FC;\n",
              "      --hover-bg-color: #434B5C;\n",
              "      --hover-fill-color: #FFFFFF;\n",
              "      --disabled-bg-color: #3B4455;\n",
              "      --disabled-fill-color: #666;\n",
              "  }\n",
              "\n",
              "  .colab-df-quickchart {\n",
              "    background-color: var(--bg-color);\n",
              "    border: none;\n",
              "    border-radius: 50%;\n",
              "    cursor: pointer;\n",
              "    display: none;\n",
              "    fill: var(--fill-color);\n",
              "    height: 32px;\n",
              "    padding: 0;\n",
              "    width: 32px;\n",
              "  }\n",
              "\n",
              "  .colab-df-quickchart:hover {\n",
              "    background-color: var(--hover-bg-color);\n",
              "    box-shadow: 0 1px 2px rgba(60, 64, 67, 0.3), 0 1px 3px 1px rgba(60, 64, 67, 0.15);\n",
              "    fill: var(--button-hover-fill-color);\n",
              "  }\n",
              "\n",
              "  .colab-df-quickchart-complete:disabled,\n",
              "  .colab-df-quickchart-complete:disabled:hover {\n",
              "    background-color: var(--disabled-bg-color);\n",
              "    fill: var(--disabled-fill-color);\n",
              "    box-shadow: none;\n",
              "  }\n",
              "\n",
              "  .colab-df-spinner {\n",
              "    border: 2px solid var(--fill-color);\n",
              "    border-color: transparent;\n",
              "    border-bottom-color: var(--fill-color);\n",
              "    animation:\n",
              "      spin 1s steps(1) infinite;\n",
              "  }\n",
              "\n",
              "  @keyframes spin {\n",
              "    0% {\n",
              "      border-color: transparent;\n",
              "      border-bottom-color: var(--fill-color);\n",
              "      border-left-color: var(--fill-color);\n",
              "    }\n",
              "    20% {\n",
              "      border-color: transparent;\n",
              "      border-left-color: var(--fill-color);\n",
              "      border-top-color: var(--fill-color);\n",
              "    }\n",
              "    30% {\n",
              "      border-color: transparent;\n",
              "      border-left-color: var(--fill-color);\n",
              "      border-top-color: var(--fill-color);\n",
              "      border-right-color: var(--fill-color);\n",
              "    }\n",
              "    40% {\n",
              "      border-color: transparent;\n",
              "      border-right-color: var(--fill-color);\n",
              "      border-top-color: var(--fill-color);\n",
              "    }\n",
              "    60% {\n",
              "      border-color: transparent;\n",
              "      border-right-color: var(--fill-color);\n",
              "    }\n",
              "    80% {\n",
              "      border-color: transparent;\n",
              "      border-right-color: var(--fill-color);\n",
              "      border-bottom-color: var(--fill-color);\n",
              "    }\n",
              "    90% {\n",
              "      border-color: transparent;\n",
              "      border-bottom-color: var(--fill-color);\n",
              "    }\n",
              "  }\n",
              "</style>\n",
              "\n",
              "  <script>\n",
              "    async function quickchart(key) {\n",
              "      const quickchartButtonEl =\n",
              "        document.querySelector('#' + key + ' button');\n",
              "      quickchartButtonEl.disabled = true;  // To prevent multiple clicks.\n",
              "      quickchartButtonEl.classList.add('colab-df-spinner');\n",
              "      try {\n",
              "        const charts = await google.colab.kernel.invokeFunction(\n",
              "            'suggestCharts', [key], {});\n",
              "      } catch (error) {\n",
              "        console.error('Error during call to suggestCharts:', error);\n",
              "      }\n",
              "      quickchartButtonEl.classList.remove('colab-df-spinner');\n",
              "      quickchartButtonEl.classList.add('colab-df-quickchart-complete');\n",
              "    }\n",
              "    (() => {\n",
              "      let quickchartButtonEl =\n",
              "        document.querySelector('#df-917a0cf7-4a03-40d5-be1e-d1390a04c749 button');\n",
              "      quickchartButtonEl.style.display =\n",
              "        google.colab.kernel.accessAllowed ? 'block' : 'none';\n",
              "    })();\n",
              "  </script>\n",
              "</div>\n",
              "\n",
              "    </div>\n",
              "  </div>\n"
            ],
            "application/vnd.google.colaboratory.intrinsic+json": {
              "type": "dataframe",
              "variable_name": "aapl_data",
              "summary": "{\n  \"name\": \"aapl_data\",\n  \"rows\": 1258,\n  \"fields\": [\n    {\n      \"column\": \"Date\",\n      \"properties\": {\n        \"dtype\": \"date\",\n        \"min\": \"2019-01-02 00:00:00\",\n        \"max\": \"2023-12-29 00:00:00\",\n        \"num_unique_values\": 1258,\n        \"samples\": [\n          \"2021-03-25 00:00:00\",\n          \"2019-05-29 00:00:00\",\n          \"2019-03-18 00:00:00\"\n        ],\n        \"semantic_type\": \"\",\n        \"description\": \"\"\n      }\n    },\n    {\n      \"column\": \"Open\",\n      \"properties\": {\n        \"dtype\": \"number\",\n        \"std\": 46.51268081006446,\n        \"min\": 35.994998931884766,\n        \"max\": 198.02000427246094,\n        \"num_unique_values\": 1201,\n        \"samples\": [\n          71.20500183105469,\n          164.27000427246094,\n          67.20249938964844\n        ],\n        \"semantic_type\": \"\",\n        \"description\": \"\"\n      }\n    },\n    {\n      \"column\": \"High\",\n      \"properties\": {\n        \"dtype\": \"number\",\n        \"std\": 46.93645265701861,\n        \"min\": 36.43000030517578,\n        \"max\": 199.6199951171875,\n        \"num_unique_values\": 1204,\n        \"samples\": [\n          52.119998931884766,\n          53.337501525878906,\n          165.52000427246094\n        ],\n        \"semantic_type\": \"\",\n        \"description\": \"\"\n      }\n    },\n    {\n      \"column\": \"Low\",\n      \"properties\": {\n        \"dtype\": \"number\",\n        \"std\": 46.09129945852142,\n        \"min\": 35.5,\n        \"max\": 197.0,\n        \"num_unique_values\": 1213,\n        \"samples\": [\n          95.25749969482422,\n          155.97999572753906,\n          43.48500061035156\n        ],\n        \"semantic_type\": \"\",\n        \"description\": \"\"\n      }\n    },\n    {\n      \"column\": \"Close\",\n      \"properties\": {\n        \"dtype\": \"number\",\n        \"std\": 46.52738716977396,\n        \"min\": 35.54750061035156,\n        \"max\": 198.11000061035156,\n        \"num_unique_values\": 1206,\n        \"samples\": [\n          44.345001220703125,\n          77.83499908447266,\n          160.07000732421875\n        ],\n        \"semantic_type\": \"\",\n        \"description\": \"\"\n      }\n    },\n    {\n      \"column\": \"Adj Close\",\n      \"properties\": {\n        \"dtype\": \"number\",\n        \"std\": 46.69533430520171,\n        \"min\": 34.02924346923828,\n        \"max\": 197.5895233154297,\n        \"num_unique_values\": 1246,\n        \"samples\": [\n          168.80160522460938,\n          113.9808120727539,\n          187.06654357910156\n        ],\n        \"semantic_type\": \"\",\n        \"description\": \"\"\n      }\n    },\n    {\n      \"column\": \"Volume\",\n      \"properties\": {\n        \"dtype\": \"number\",\n        \"std\": 52610869,\n        \"min\": 24048300,\n        \"max\": 426510000,\n        \"num_unique_values\": 1255,\n        \"samples\": [\n          57224100,\n          84873600,\n          104879200\n        ],\n        \"semantic_type\": \"\",\n        \"description\": \"\"\n      }\n    }\n  ]\n}"
            }
          },
          "metadata": {},
          "execution_count": 26
        }
      ]
    },
    {
      "cell_type": "code",
      "source": [
        "# Checking for missing values\n",
        "aapl_data.isnull().sum()"
      ],
      "metadata": {
        "colab": {
          "base_uri": "https://localhost:8080/"
        },
        "id": "2MbBfEjAPi3e",
        "outputId": "5d8f7a09-6ae3-493a-874f-bef637df2ed3"
      },
      "execution_count": 27,
      "outputs": [
        {
          "output_type": "execute_result",
          "data": {
            "text/plain": [
              "Open         0\n",
              "High         0\n",
              "Low          0\n",
              "Close        0\n",
              "Adj Close    0\n",
              "Volume       0\n",
              "dtype: int64"
            ]
          },
          "metadata": {},
          "execution_count": 27
        }
      ]
    },
    {
      "cell_type": "code",
      "source": [
        "# # Filling missing values, if any\n",
        "# aapl_data.fillna(method='ffill', inplace=True)"
      ],
      "metadata": {
        "id": "BCmc-L0YPs9f"
      },
      "execution_count": 28,
      "outputs": []
    },
    {
      "cell_type": "markdown",
      "source": [
        "For our model, we’ll use ‘Close’ prices, but you can experiment with additional features like ‘Open’, ‘High’, ‘Low’, and ‘Volume’."
      ],
      "metadata": {
        "id": "rFapp-2oQNuz"
      }
    },
    {
      "cell_type": "code",
      "source": [
        "from sklearn.preprocessing import MinMaxScaler\n",
        "\n",
        "scaler = MinMaxScaler(feature_range=(0,1))\n",
        "aapl_data_scaled = scaler.fit_transform(aapl_data['Close'].values.reshape(-1,1))"
      ],
      "metadata": {
        "id": "P1CrDKlLPxMd"
      },
      "execution_count": 29,
      "outputs": []
    },
    {
      "cell_type": "code",
      "source": [
        "aapl_data_scaled"
      ],
      "metadata": {
        "colab": {
          "base_uri": "https://localhost:8080/"
        },
        "id": "aj5I5dnKP52u",
        "outputId": "b9a96fd1-d11a-440d-d527-6c584c32bfeb"
      },
      "execution_count": 30,
      "outputs": [
        {
          "output_type": "execute_result",
          "data": {
            "text/plain": [
              "array([[0.02419069],\n",
              "       [0.        ],\n",
              "       [0.00933486],\n",
              "       ...,\n",
              "       [0.96948862],\n",
              "       [0.9721338 ],\n",
              "       [0.96567473]])"
            ]
          },
          "metadata": {},
          "execution_count": 30
        }
      ]
    },
    {
      "cell_type": "markdown",
      "source": [
        "Defining Sequence Length: Choose a sequence length (like 60 days). This means, for every sample, the model will look at the last 60 days of data to make a prediction."
      ],
      "metadata": {
        "id": "GUC7VfmJQy8h"
      }
    },
    {
      "cell_type": "code",
      "source": [
        "X = []\n",
        "y = []\n",
        "\n",
        "for i in range(60, len(aapl_data_scaled)):\n",
        "    X.append(aapl_data_scaled[i-60:i, 0])\n",
        "    y.append(aapl_data_scaled[i, 0])"
      ],
      "metadata": {
        "id": "3jpKVZ4zP8Nm"
      },
      "execution_count": 31,
      "outputs": []
    },
    {
      "cell_type": "markdown",
      "source": [
        "### Train-Test Split"
      ],
      "metadata": {
        "id": "qctbxyb_Q1rS"
      }
    },
    {
      "cell_type": "code",
      "source": [
        "train_size = int(len(X) * 0.8)\n",
        "test_size = len(X) - train_size\n",
        "\n",
        "X_train, X_test = X[:train_size], X[train_size:]\n",
        "y_train, y_test = y[:train_size], y[train_size:]"
      ],
      "metadata": {
        "id": "A-8XBVs4QZ6O"
      },
      "execution_count": 32,
      "outputs": []
    },
    {
      "cell_type": "markdown",
      "source": [
        "Finally, we need to reshape our data into a 3D format [samples, time steps, features] required by LSTM layers."
      ],
      "metadata": {
        "id": "KJy0PTURRRUd"
      }
    },
    {
      "cell_type": "code",
      "source": [
        "X_train, y_train = np.array(X_train), np.array(y_train)\n",
        "X_train = np.reshape(X_train, (X_train.shape[0], X_train.shape[1], 1))"
      ],
      "metadata": {
        "id": "fN1b_aBdRAsU"
      },
      "execution_count": 33,
      "outputs": []
    },
    {
      "cell_type": "markdown",
      "source": [
        "##Building the LSTM with Attention Model"
      ],
      "metadata": {
        "id": "OQzZkZfpRt4R"
      }
    },
    {
      "cell_type": "code",
      "source": [
        "from keras.models import Sequential\n",
        "from keras.layers import LSTM, Dense, Dropout, AdditiveAttention, Permute, Reshape, Multiply\n",
        "\n",
        "model = Sequential()\n",
        "\n",
        "# Adding LSTM layers with return_sequences=True\n",
        "model.add(LSTM(units=50, return_sequences=True, input_shape=(X_train.shape[1], 1)))\n",
        "model.add(LSTM(units=50, return_sequences=True))"
      ],
      "metadata": {
        "id": "-kPWa9bLRkKF"
      },
      "execution_count": 34,
      "outputs": []
    },
    {
      "cell_type": "markdown",
      "source": [
        "### Adding attention mechanism"
      ],
      "metadata": {
        "id": "A9FjuI_pTF8Q"
      }
    },
    {
      "cell_type": "markdown",
      "source": [
        "* First Permute: Swaps dimensions to make the tensor compatible for attention mechanism.\n",
        "\n",
        "* Reshape: Flattens dimensions for attention mechanism.\n",
        "Attention Mechanism: Computes attention weights.\n",
        "\n",
        "* Multiply: Applies the attention weights.\n",
        "\n",
        "* Second Permute: Reverts the dimensions to the original order.\n",
        "\n",
        "* Final Reshape: Returns to the original shape."
      ],
      "metadata": {
        "id": "1Ot-NOzHSycZ"
      }
    },
    {
      "cell_type": "code",
      "source": [
        "# The attention mechanism\n",
        "attention = AdditiveAttention(name='attention_weight')\n",
        "# Permute and reshape for compatibility\n",
        "model.add(Permute((2, 1)))\n",
        "model.add(Reshape((-1, X_train.shape[1])))\n",
        "attention_result = attention([model.output, model.output])\n",
        "multiply_layer = Multiply()([model.output, attention_result])\n",
        "# Return to original shape\n",
        "model.add(Permute((2, 1)))\n",
        "model.add(Reshape((-1, 50)))\n",
        "\n",
        "# Adding a Flatten layer before the final Dense layer\n",
        "model.add(tf.keras.layers.Flatten())\n",
        "\n",
        "# Final Dense layer\n",
        "model.add(Dense(1))"
      ],
      "metadata": {
        "id": "0lsuAAPdR5kc"
      },
      "execution_count": 35,
      "outputs": []
    },
    {
      "cell_type": "markdown",
      "source": [
        "###Optimizing the Model"
      ],
      "metadata": {
        "id": "VP8kMNnzTQUr"
      }
    },
    {
      "cell_type": "code",
      "source": [
        "from keras.layers import BatchNormalization\n",
        "\n",
        "# Adding Dropout and Batch Normalization\n",
        "model.add(Dropout(0.2))\n",
        "model.add(BatchNormalization())"
      ],
      "metadata": {
        "id": "KDdhuVAaS2z6"
      },
      "execution_count": 36,
      "outputs": []
    },
    {
      "cell_type": "markdown",
      "source": [
        "* Dropout: Helps prevent overfitting by randomly deactivating a fraction of neurons during training.\n",
        "* Batch Normalization: Stabilizes and accelerates training by normalizing activations, allowing higher learning rates and making the network less sensitive to initialization."
      ],
      "metadata": {
        "id": "HCCoR8T0VyJE"
      }
    },
    {
      "cell_type": "markdown",
      "source": [
        "##Model Compilation"
      ],
      "metadata": {
        "id": "vugb-WMiV20U"
      }
    },
    {
      "cell_type": "code",
      "source": [
        "model.compile(optimizer='adam', loss='mean_squared_error')"
      ],
      "metadata": {
        "id": "JEkLu9aMTSjk"
      },
      "execution_count": 37,
      "outputs": []
    },
    {
      "cell_type": "code",
      "source": [
        "model.summary()"
      ],
      "metadata": {
        "colab": {
          "base_uri": "https://localhost:8080/"
        },
        "id": "Vr50QcUpV6rw",
        "outputId": "7641fcaf-5147-4ecd-fdf1-0e59e04d97eb"
      },
      "execution_count": 38,
      "outputs": [
        {
          "output_type": "stream",
          "name": "stdout",
          "text": [
            "Model: \"sequential_1\"\n",
            "_________________________________________________________________\n",
            " Layer (type)                Output Shape              Param #   \n",
            "=================================================================\n",
            " lstm_2 (LSTM)               (None, 60, 50)            10400     \n",
            "                                                                 \n",
            " lstm_3 (LSTM)               (None, 60, 50)            20200     \n",
            "                                                                 \n",
            " permute_3 (Permute)         (None, 50, 60)            0         \n",
            "                                                                 \n",
            " reshape_2 (Reshape)         (None, 50, 60)            0         \n",
            "                                                                 \n",
            " permute_4 (Permute)         (None, 60, 50)            0         \n",
            "                                                                 \n",
            " reshape_3 (Reshape)         (None, 60, 50)            0         \n",
            "                                                                 \n",
            " flatten_1 (Flatten)         (None, 3000)              0         \n",
            "                                                                 \n",
            " dense_1 (Dense)             (None, 1)                 3001      \n",
            "                                                                 \n",
            " dropout_2 (Dropout)         (None, 1)                 0         \n",
            "                                                                 \n",
            " batch_normalization_2 (Bat  (None, 1)                 4         \n",
            " chNormalization)                                                \n",
            "                                                                 \n",
            "=================================================================\n",
            "Total params: 33605 (131.27 KB)\n",
            "Trainable params: 33603 (131.26 KB)\n",
            "Non-trainable params: 2 (8.00 Byte)\n",
            "_________________________________________________________________\n"
          ]
        }
      ]
    },
    {
      "cell_type": "markdown",
      "source": [
        "### Training"
      ],
      "metadata": {
        "id": "qUlRxN0mWIpm"
      }
    },
    {
      "cell_type": "code",
      "source": [
        "history = model.fit(X_train, y_train, epochs=100, batch_size=25, validation_split=0.2)"
      ],
      "metadata": {
        "colab": {
          "base_uri": "https://localhost:8080/"
        },
        "id": "9gYWule4V9XJ",
        "outputId": "b20e5d91-71e1-4501-e132-5a53de8c7364"
      },
      "execution_count": 39,
      "outputs": [
        {
          "output_type": "stream",
          "name": "stdout",
          "text": [
            "Epoch 1/100\n",
            "31/31 [==============================] - 5s 35ms/step - loss: 0.9998 - val_loss: 0.4767\n",
            "Epoch 2/100\n",
            "31/31 [==============================] - 0s 10ms/step - loss: 0.2035 - val_loss: 0.3707\n",
            "Epoch 3/100\n",
            "31/31 [==============================] - 0s 12ms/step - loss: 0.1494 - val_loss: 0.3464\n",
            "Epoch 4/100\n",
            "31/31 [==============================] - 0s 10ms/step - loss: 0.1325 - val_loss: 0.3113\n",
            "Epoch 5/100\n",
            "31/31 [==============================] - 0s 10ms/step - loss: 0.1130 - val_loss: 0.2821\n",
            "Epoch 6/100\n",
            "31/31 [==============================] - 0s 11ms/step - loss: 0.0983 - val_loss: 0.2522\n",
            "Epoch 7/100\n",
            "31/31 [==============================] - 0s 16ms/step - loss: 0.0862 - val_loss: 0.2272\n",
            "Epoch 8/100\n",
            "31/31 [==============================] - 0s 16ms/step - loss: 0.0726 - val_loss: 0.2104\n",
            "Epoch 9/100\n",
            "31/31 [==============================] - 1s 16ms/step - loss: 0.0636 - val_loss: 0.1875\n",
            "Epoch 10/100\n",
            "31/31 [==============================] - 1s 17ms/step - loss: 0.0528 - val_loss: 0.1696\n",
            "Epoch 11/100\n",
            "31/31 [==============================] - 1s 17ms/step - loss: 0.0474 - val_loss: 0.1344\n",
            "Epoch 12/100\n",
            "31/31 [==============================] - 1s 25ms/step - loss: 0.0410 - val_loss: 0.1338\n",
            "Epoch 13/100\n",
            "31/31 [==============================] - 1s 26ms/step - loss: 0.0369 - val_loss: 0.1111\n",
            "Epoch 14/100\n",
            "31/31 [==============================] - 1s 19ms/step - loss: 0.0308 - val_loss: 0.0936\n",
            "Epoch 15/100\n",
            "31/31 [==============================] - 1s 25ms/step - loss: 0.0306 - val_loss: 0.0886\n",
            "Epoch 16/100\n",
            "31/31 [==============================] - 1s 30ms/step - loss: 0.0256 - val_loss: 0.0767\n",
            "Epoch 17/100\n",
            "31/31 [==============================] - 1s 19ms/step - loss: 0.0211 - val_loss: 0.0597\n",
            "Epoch 18/100\n",
            "31/31 [==============================] - 1s 22ms/step - loss: 0.0244 - val_loss: 0.0504\n",
            "Epoch 19/100\n",
            "31/31 [==============================] - 1s 17ms/step - loss: 0.0235 - val_loss: 0.0583\n",
            "Epoch 20/100\n",
            "31/31 [==============================] - 1s 21ms/step - loss: 0.0203 - val_loss: 0.0289\n",
            "Epoch 21/100\n",
            "31/31 [==============================] - 0s 15ms/step - loss: 0.0173 - val_loss: 0.0385\n",
            "Epoch 22/100\n",
            "31/31 [==============================] - 0s 16ms/step - loss: 0.0175 - val_loss: 0.0181\n",
            "Epoch 23/100\n",
            "31/31 [==============================] - 1s 16ms/step - loss: 0.0168 - val_loss: 0.0236\n",
            "Epoch 24/100\n",
            "31/31 [==============================] - 0s 15ms/step - loss: 0.0155 - val_loss: 0.0112\n",
            "Epoch 25/100\n",
            "31/31 [==============================] - 1s 18ms/step - loss: 0.0169 - val_loss: 0.0197\n",
            "Epoch 26/100\n",
            "31/31 [==============================] - 1s 16ms/step - loss: 0.0173 - val_loss: 0.0070\n",
            "Epoch 27/100\n",
            "31/31 [==============================] - 1s 18ms/step - loss: 0.0157 - val_loss: 0.0037\n",
            "Epoch 28/100\n",
            "31/31 [==============================] - 1s 20ms/step - loss: 0.0156 - val_loss: 0.0034\n",
            "Epoch 29/100\n",
            "31/31 [==============================] - 1s 18ms/step - loss: 0.0172 - val_loss: 0.0216\n",
            "Epoch 30/100\n",
            "31/31 [==============================] - 1s 17ms/step - loss: 0.0164 - val_loss: 0.0245\n",
            "Epoch 31/100\n",
            "31/31 [==============================] - 0s 16ms/step - loss: 0.0165 - val_loss: 0.0028\n",
            "Epoch 32/100\n",
            "31/31 [==============================] - 0s 11ms/step - loss: 0.0157 - val_loss: 0.0096\n",
            "Epoch 33/100\n",
            "31/31 [==============================] - 0s 10ms/step - loss: 0.0172 - val_loss: 0.0021\n",
            "Epoch 34/100\n",
            "31/31 [==============================] - 0s 10ms/step - loss: 0.0152 - val_loss: 0.0114\n",
            "Epoch 35/100\n",
            "31/31 [==============================] - 0s 10ms/step - loss: 0.0142 - val_loss: 0.0017\n",
            "Epoch 36/100\n",
            "31/31 [==============================] - 0s 10ms/step - loss: 0.0137 - val_loss: 0.0131\n",
            "Epoch 37/100\n",
            "31/31 [==============================] - 0s 14ms/step - loss: 0.0147 - val_loss: 0.0016\n",
            "Epoch 38/100\n",
            "31/31 [==============================] - 0s 13ms/step - loss: 0.0167 - val_loss: 0.0047\n",
            "Epoch 39/100\n",
            "31/31 [==============================] - 0s 13ms/step - loss: 0.0166 - val_loss: 0.0055\n",
            "Epoch 40/100\n",
            "31/31 [==============================] - 0s 14ms/step - loss: 0.0152 - val_loss: 0.0151\n",
            "Epoch 41/100\n",
            "31/31 [==============================] - 0s 14ms/step - loss: 0.0168 - val_loss: 0.0021\n",
            "Epoch 42/100\n",
            "31/31 [==============================] - 0s 15ms/step - loss: 0.0178 - val_loss: 0.0053\n",
            "Epoch 43/100\n",
            "31/31 [==============================] - 0s 13ms/step - loss: 0.0182 - val_loss: 0.0015\n",
            "Epoch 44/100\n",
            "31/31 [==============================] - 0s 10ms/step - loss: 0.0157 - val_loss: 0.0026\n",
            "Epoch 45/100\n",
            "31/31 [==============================] - 0s 10ms/step - loss: 0.0156 - val_loss: 0.0016\n",
            "Epoch 46/100\n",
            "31/31 [==============================] - 0s 11ms/step - loss: 0.0170 - val_loss: 0.0017\n",
            "Epoch 47/100\n",
            "31/31 [==============================] - 0s 11ms/step - loss: 0.0142 - val_loss: 0.0047\n",
            "Epoch 48/100\n",
            "31/31 [==============================] - 0s 10ms/step - loss: 0.0150 - val_loss: 0.0105\n",
            "Epoch 49/100\n",
            "31/31 [==============================] - 0s 11ms/step - loss: 0.0168 - val_loss: 0.0101\n",
            "Epoch 50/100\n",
            "31/31 [==============================] - 0s 10ms/step - loss: 0.0153 - val_loss: 0.0014\n",
            "Epoch 51/100\n",
            "31/31 [==============================] - 0s 10ms/step - loss: 0.0143 - val_loss: 0.0111\n",
            "Epoch 52/100\n",
            "31/31 [==============================] - 0s 11ms/step - loss: 0.0162 - val_loss: 0.0080\n",
            "Epoch 53/100\n",
            "31/31 [==============================] - 0s 10ms/step - loss: 0.0143 - val_loss: 0.0071\n",
            "Epoch 54/100\n",
            "31/31 [==============================] - 0s 12ms/step - loss: 0.0147 - val_loss: 0.0016\n",
            "Epoch 55/100\n",
            "31/31 [==============================] - 0s 10ms/step - loss: 0.0152 - val_loss: 0.0023\n",
            "Epoch 56/100\n",
            "31/31 [==============================] - 0s 10ms/step - loss: 0.0156 - val_loss: 0.0034\n",
            "Epoch 57/100\n",
            "31/31 [==============================] - 0s 10ms/step - loss: 0.0156 - val_loss: 0.0014\n",
            "Epoch 58/100\n",
            "31/31 [==============================] - 0s 10ms/step - loss: 0.0146 - val_loss: 0.0014\n",
            "Epoch 59/100\n",
            "31/31 [==============================] - 0s 12ms/step - loss: 0.0166 - val_loss: 0.0050\n",
            "Epoch 60/100\n",
            "31/31 [==============================] - 0s 13ms/step - loss: 0.0152 - val_loss: 0.0199\n",
            "Epoch 61/100\n",
            "31/31 [==============================] - 0s 10ms/step - loss: 0.0167 - val_loss: 0.0146\n",
            "Epoch 62/100\n",
            "31/31 [==============================] - 0s 11ms/step - loss: 0.0174 - val_loss: 0.0044\n",
            "Epoch 63/100\n",
            "31/31 [==============================] - 0s 11ms/step - loss: 0.0159 - val_loss: 0.0029\n",
            "Epoch 64/100\n",
            "31/31 [==============================] - 0s 10ms/step - loss: 0.0162 - val_loss: 0.0022\n",
            "Epoch 65/100\n",
            "31/31 [==============================] - 0s 10ms/step - loss: 0.0170 - val_loss: 0.0032\n",
            "Epoch 66/100\n",
            "31/31 [==============================] - 0s 15ms/step - loss: 0.0152 - val_loss: 0.0018\n",
            "Epoch 67/100\n",
            "31/31 [==============================] - 1s 23ms/step - loss: 0.0183 - val_loss: 0.0052\n",
            "Epoch 68/100\n",
            "31/31 [==============================] - 1s 22ms/step - loss: 0.0157 - val_loss: 0.0015\n",
            "Epoch 69/100\n",
            "31/31 [==============================] - 0s 16ms/step - loss: 0.0216 - val_loss: 0.0074\n",
            "Epoch 70/100\n",
            "31/31 [==============================] - 1s 29ms/step - loss: 0.0146 - val_loss: 0.0032\n",
            "Epoch 71/100\n",
            "31/31 [==============================] - 1s 30ms/step - loss: 0.0165 - val_loss: 0.0101\n",
            "Epoch 72/100\n",
            "31/31 [==============================] - 1s 27ms/step - loss: 0.0173 - val_loss: 0.0096\n",
            "Epoch 73/100\n",
            "31/31 [==============================] - 1s 25ms/step - loss: 0.0153 - val_loss: 0.0020\n",
            "Epoch 74/100\n",
            "31/31 [==============================] - 0s 12ms/step - loss: 0.0154 - val_loss: 0.0058\n",
            "Epoch 75/100\n",
            "31/31 [==============================] - 0s 10ms/step - loss: 0.0127 - val_loss: 0.0247\n",
            "Epoch 76/100\n",
            "31/31 [==============================] - 0s 10ms/step - loss: 0.0158 - val_loss: 0.0081\n",
            "Epoch 77/100\n",
            "31/31 [==============================] - 0s 10ms/step - loss: 0.0145 - val_loss: 0.0019\n",
            "Epoch 78/100\n",
            "31/31 [==============================] - 0s 10ms/step - loss: 0.0156 - val_loss: 0.0048\n",
            "Epoch 79/100\n",
            "31/31 [==============================] - 0s 10ms/step - loss: 0.0154 - val_loss: 0.0042\n",
            "Epoch 80/100\n",
            "31/31 [==============================] - 0s 11ms/step - loss: 0.0186 - val_loss: 0.0113\n",
            "Epoch 81/100\n",
            "31/31 [==============================] - 0s 10ms/step - loss: 0.0173 - val_loss: 0.0013\n",
            "Epoch 82/100\n",
            "31/31 [==============================] - 0s 10ms/step - loss: 0.0153 - val_loss: 0.0048\n",
            "Epoch 83/100\n",
            "31/31 [==============================] - 0s 10ms/step - loss: 0.0152 - val_loss: 0.0093\n",
            "Epoch 84/100\n",
            "31/31 [==============================] - 0s 10ms/step - loss: 0.0160 - val_loss: 0.0026\n",
            "Epoch 85/100\n",
            "31/31 [==============================] - 0s 12ms/step - loss: 0.0159 - val_loss: 0.0033\n",
            "Epoch 86/100\n",
            "31/31 [==============================] - 1s 17ms/step - loss: 0.0159 - val_loss: 0.0086\n",
            "Epoch 87/100\n",
            "31/31 [==============================] - 1s 16ms/step - loss: 0.0205 - val_loss: 0.0076\n",
            "Epoch 88/100\n",
            "31/31 [==============================] - 0s 14ms/step - loss: 0.0152 - val_loss: 0.0036\n",
            "Epoch 89/100\n",
            "31/31 [==============================] - 1s 20ms/step - loss: 0.0165 - val_loss: 0.0106\n",
            "Epoch 90/100\n",
            "31/31 [==============================] - 0s 16ms/step - loss: 0.0151 - val_loss: 0.0029\n",
            "Epoch 91/100\n",
            "31/31 [==============================] - 1s 17ms/step - loss: 0.0153 - val_loss: 0.0039\n",
            "Epoch 92/100\n",
            "31/31 [==============================] - 1s 22ms/step - loss: 0.0145 - val_loss: 0.0012\n",
            "Epoch 93/100\n",
            "31/31 [==============================] - 0s 15ms/step - loss: 0.0156 - val_loss: 0.0031\n",
            "Epoch 94/100\n",
            "31/31 [==============================] - 1s 16ms/step - loss: 0.0183 - val_loss: 0.0062\n",
            "Epoch 95/100\n",
            "31/31 [==============================] - 0s 12ms/step - loss: 0.0153 - val_loss: 0.0037\n",
            "Epoch 96/100\n",
            "31/31 [==============================] - 0s 10ms/step - loss: 0.0183 - val_loss: 0.0029\n",
            "Epoch 97/100\n",
            "31/31 [==============================] - 0s 10ms/step - loss: 0.0146 - val_loss: 0.0016\n",
            "Epoch 98/100\n",
            "31/31 [==============================] - 0s 13ms/step - loss: 0.0154 - val_loss: 0.0011\n",
            "Epoch 99/100\n",
            "31/31 [==============================] - 0s 15ms/step - loss: 0.0163 - val_loss: 0.0187\n",
            "Epoch 100/100\n",
            "31/31 [==============================] - 0s 14ms/step - loss: 0.0147 - val_loss: 0.0083\n"
          ]
        }
      ]
    },
    {
      "cell_type": "markdown",
      "source": [
        "###Early Stopping"
      ],
      "metadata": {
        "id": "Lo48Op7hWo07"
      }
    },
    {
      "cell_type": "markdown",
      "source": [
        "Early Stopping: This technique stops training when the model’s performance on the validation set starts to degrade."
      ],
      "metadata": {
        "id": "XR1TopvhXEbz"
      }
    },
    {
      "cell_type": "code",
      "source": [
        "from keras.callbacks import EarlyStopping\n",
        "\n",
        "early_stopping = EarlyStopping(monitor='val_loss', patience=10)\n",
        "history = model.fit(X_train, y_train, epochs=100, batch_size=25, validation_split=0.2, callbacks=[early_stopping])"
      ],
      "metadata": {
        "colab": {
          "base_uri": "https://localhost:8080/"
        },
        "id": "-X2Wky5BWIFA",
        "outputId": "06ba977e-0ab3-4be8-bba2-7b889d5a0a4b"
      },
      "execution_count": 40,
      "outputs": [
        {
          "output_type": "stream",
          "name": "stdout",
          "text": [
            "Epoch 1/100\n",
            "31/31 [==============================] - 1s 27ms/step - loss: 0.0171 - val_loss: 0.0083\n",
            "Epoch 2/100\n",
            "31/31 [==============================] - 1s 22ms/step - loss: 0.0166 - val_loss: 0.0010\n",
            "Epoch 3/100\n",
            "31/31 [==============================] - 0s 12ms/step - loss: 0.0154 - val_loss: 0.0050\n",
            "Epoch 4/100\n",
            "31/31 [==============================] - 0s 12ms/step - loss: 0.0176 - val_loss: 0.0034\n",
            "Epoch 5/100\n",
            "31/31 [==============================] - 0s 14ms/step - loss: 0.0169 - val_loss: 0.0375\n",
            "Epoch 6/100\n",
            "31/31 [==============================] - 0s 14ms/step - loss: 0.0156 - val_loss: 9.7343e-04\n",
            "Epoch 7/100\n",
            "31/31 [==============================] - 0s 15ms/step - loss: 0.0164 - val_loss: 0.0033\n",
            "Epoch 8/100\n",
            "31/31 [==============================] - 1s 19ms/step - loss: 0.0158 - val_loss: 0.0016\n",
            "Epoch 9/100\n",
            "31/31 [==============================] - 1s 20ms/step - loss: 0.0167 - val_loss: 0.0011\n",
            "Epoch 10/100\n",
            "31/31 [==============================] - 0s 15ms/step - loss: 0.0159 - val_loss: 0.0023\n",
            "Epoch 11/100\n",
            "31/31 [==============================] - 0s 14ms/step - loss: 0.0142 - val_loss: 0.0011\n",
            "Epoch 12/100\n",
            "31/31 [==============================] - 0s 15ms/step - loss: 0.0152 - val_loss: 0.0034\n",
            "Epoch 13/100\n",
            "31/31 [==============================] - 0s 14ms/step - loss: 0.0169 - val_loss: 0.0086\n",
            "Epoch 14/100\n",
            "31/31 [==============================] - 1s 19ms/step - loss: 0.0168 - val_loss: 0.0013\n",
            "Epoch 15/100\n",
            "31/31 [==============================] - 1s 18ms/step - loss: 0.0159 - val_loss: 0.0024\n",
            "Epoch 16/100\n",
            "31/31 [==============================] - 0s 10ms/step - loss: 0.0178 - val_loss: 0.0036\n"
          ]
        }
      ]
    },
    {
      "cell_type": "markdown",
      "source": [
        "Here, patience=10 means training will stop if the validation loss does not improve for 10 consecutive epochs"
      ],
      "metadata": {
        "id": "Y4ovuGFIW_9P"
      }
    },
    {
      "cell_type": "markdown",
      "source": [
        "## Callbacks"
      ],
      "metadata": {
        "id": "w7hyYzVKXJSq"
      }
    },
    {
      "cell_type": "code",
      "source": [
        "from keras.callbacks import ModelCheckpoint, ReduceLROnPlateau, TensorBoard, CSVLogger\n",
        "\n",
        "# Callback to save the model periodically\n",
        "model_checkpoint = ModelCheckpoint('best_model.h5', save_best_only=True, monitor='val_loss')\n",
        "\n",
        "# Callback to reduce learning rate when a metric has stopped improving\n",
        "reduce_lr = ReduceLROnPlateau(monitor='val_loss', factor=0.1, patience=5)\n",
        "\n",
        "# Callback for TensorBoard\n",
        "tensorboard = TensorBoard(log_dir='./logs')\n",
        "\n",
        "# Callback to log details to a CSV file\n",
        "csv_logger = CSVLogger('training_log.csv')\n",
        "\n",
        "# Combining all callbacks\n",
        "callbacks_list = [early_stopping, model_checkpoint, reduce_lr, tensorboard, csv_logger]\n",
        "\n",
        "# Fit the model with the callbacks\n",
        "history = model.fit(X_train, y_train, epochs=100, batch_size=25, validation_split=0.2, callbacks=callbacks_list)"
      ],
      "metadata": {
        "colab": {
          "base_uri": "https://localhost:8080/"
        },
        "id": "80o_784fW1gP",
        "outputId": "7702f547-4183-49c5-99f4-2cf50e7504bd"
      },
      "execution_count": 41,
      "outputs": [
        {
          "output_type": "stream",
          "name": "stdout",
          "text": [
            "Epoch 1/100\n",
            "31/31 [==============================] - 1s 25ms/step - loss: 0.0149 - val_loss: 0.0036 - lr: 0.0010\n",
            "Epoch 2/100\n",
            " 4/31 [==>...........................] - ETA: 0s - loss: 0.0122"
          ]
        },
        {
          "output_type": "stream",
          "name": "stderr",
          "text": [
            "/usr/local/lib/python3.10/dist-packages/keras/src/engine/training.py:3103: UserWarning: You are saving your model as an HDF5 file via `model.save()`. This file format is considered legacy. We recommend using instead the native Keras format, e.g. `model.save('my_model.keras')`.\n",
            "  saving_api.save_model(\n"
          ]
        },
        {
          "output_type": "stream",
          "name": "stdout",
          "text": [
            "31/31 [==============================] - 1s 16ms/step - loss: 0.0153 - val_loss: 0.0015 - lr: 0.0010\n",
            "Epoch 3/100\n",
            "31/31 [==============================] - 0s 12ms/step - loss: 0.0188 - val_loss: 0.0212 - lr: 0.0010\n",
            "Epoch 4/100\n",
            "31/31 [==============================] - 0s 12ms/step - loss: 0.0179 - val_loss: 0.0018 - lr: 0.0010\n",
            "Epoch 5/100\n",
            "31/31 [==============================] - 0s 12ms/step - loss: 0.0142 - val_loss: 9.5891e-04 - lr: 0.0010\n",
            "Epoch 6/100\n",
            "31/31 [==============================] - 0s 11ms/step - loss: 0.0152 - val_loss: 0.0068 - lr: 0.0010\n",
            "Epoch 7/100\n",
            "31/31 [==============================] - 0s 12ms/step - loss: 0.0176 - val_loss: 0.0150 - lr: 0.0010\n",
            "Epoch 8/100\n",
            "31/31 [==============================] - 0s 10ms/step - loss: 0.0181 - val_loss: 0.0010 - lr: 0.0010\n",
            "Epoch 9/100\n",
            "31/31 [==============================] - 0s 10ms/step - loss: 0.0156 - val_loss: 0.0069 - lr: 0.0010\n",
            "Epoch 10/100\n",
            "31/31 [==============================] - 0s 12ms/step - loss: 0.0158 - val_loss: 0.0015 - lr: 0.0010\n",
            "Epoch 11/100\n",
            "31/31 [==============================] - 0s 10ms/step - loss: 0.0137 - val_loss: 0.0083 - lr: 1.0000e-04\n",
            "Epoch 12/100\n",
            "31/31 [==============================] - 0s 11ms/step - loss: 0.0151 - val_loss: 0.0030 - lr: 1.0000e-04\n",
            "Epoch 13/100\n",
            "31/31 [==============================] - 0s 10ms/step - loss: 0.0158 - val_loss: 0.0035 - lr: 1.0000e-04\n",
            "Epoch 14/100\n",
            "31/31 [==============================] - 0s 10ms/step - loss: 0.0136 - val_loss: 0.0028 - lr: 1.0000e-04\n",
            "Epoch 15/100\n",
            "31/31 [==============================] - 0s 11ms/step - loss: 0.0134 - val_loss: 0.0019 - lr: 1.0000e-04\n"
          ]
        }
      ]
    },
    {
      "cell_type": "markdown",
      "source": [
        "## Evaluating Model Performance"
      ],
      "metadata": {
        "id": "fGGnR6wXXWmv"
      }
    },
    {
      "cell_type": "code",
      "source": [
        "# Convert X_test and y_test to Numpy arrays if they are not already\n",
        "X_test = np.array(X_test)\n",
        "y_test = np.array(y_test)\n",
        "\n",
        "# Ensure X_test is reshaped similarly to how X_train was reshaped\n",
        "# This depends on how you preprocessed the training data\n",
        "X_test = np.reshape(X_test, (X_test.shape[0], X_test.shape[1], 1))\n",
        "\n",
        "# Now evaluate the model on the test data\n",
        "test_loss = model.evaluate(X_test, y_test)\n",
        "print(\"Test Loss: \", test_loss)"
      ],
      "metadata": {
        "colab": {
          "base_uri": "https://localhost:8080/"
        },
        "id": "yyeU2EHsXNAX",
        "outputId": "48684e9d-ec0a-409c-ebea-8e420e9fad8f"
      },
      "execution_count": 42,
      "outputs": [
        {
          "output_type": "stream",
          "name": "stdout",
          "text": [
            "8/8 [==============================] - 0s 6ms/step - loss: 0.0063\n",
            "Test Loss:  0.006251739803701639\n"
          ]
        }
      ]
    },
    {
      "cell_type": "code",
      "source": [
        "from sklearn.metrics import mean_absolute_error, mean_squared_error\n",
        "\n",
        "# Making predictions\n",
        "y_pred = model.predict(X_test)\n",
        "\n",
        "# Calculating MAE and RMSE\n",
        "mae = mean_absolute_error(y_test, y_pred)\n",
        "rmse = mean_squared_error(y_test, y_pred, squared=False)\n",
        "\n",
        "print(\"Mean Absolute Error: \", mae)\n",
        "print(\"Root Mean Square Error: \", rmse)"
      ],
      "metadata": {
        "colab": {
          "base_uri": "https://localhost:8080/"
        },
        "id": "JraWJY_iXctT",
        "outputId": "c61fe43e-4f18-4df2-bb0b-415445c5f20a"
      },
      "execution_count": 43,
      "outputs": [
        {
          "output_type": "stream",
          "name": "stdout",
          "text": [
            "8/8 [==============================] - 1s 5ms/step\n",
            "Mean Absolute Error:  0.07423712756934957\n",
            "Root Mean Square Error:  0.07906794726259682\n"
          ]
        }
      ]
    },
    {
      "cell_type": "markdown",
      "source": [
        "## Making Predictions"
      ],
      "metadata": {
        "id": "tKc-V6VuXnVT"
      }
    },
    {
      "cell_type": "code",
      "source": [
        "import yfinance as yf\n",
        "import numpy as np\n",
        "from sklearn.preprocessing import MinMaxScaler\n",
        "\n",
        "# Fetching the latest 3 months of AAPL stock data\n",
        "data = yf.download('AAPL', period='3mo', interval='1d')\n",
        "\n",
        "# Check if the data was fetched successfully\n",
        "if data.empty:\n",
        "    raise ValueError(\"Failed to fetch data. Please check the ticker or network connection.\")\n",
        "\n",
        "# Ensure we have at least 60 days of data\n",
        "if len(data) < 60:\n",
        "    raise ValueError(\"Not enough data to fetch 60 days of closing prices.\")\n",
        "\n",
        "# Selecting the 'Close' price and converting to numpy array\n",
        "closing_prices = data['Close'].values[-60:]  # Select only the last 60 days\n",
        "\n",
        "# Scaling the data\n",
        "scaler = MinMaxScaler(feature_range=(0, 1))\n",
        "scaled_data = scaler.fit_transform(closing_prices.reshape(-1, 1))\n",
        "\n",
        "# Preparing the data for the model\n",
        "X_latest = np.array([scaled_data.reshape(60, 1)])\n",
        "\n",
        "# Making predictions for the next 4 candles\n",
        "predicted_stock_price = model.predict(X_latest)\n",
        "predicted_stock_price = scaler.inverse_transform(predicted_stock_price)\n",
        "\n",
        "print(\"Predicted Stock Prices for the next 4 days: \", predicted_stock_price)\n"
      ],
      "metadata": {
        "colab": {
          "base_uri": "https://localhost:8080/"
        },
        "id": "CL356m-kXhba",
        "outputId": "5862913c-7066-403c-e2cf-b212ad7f6571"
      },
      "execution_count": 46,
      "outputs": [
        {
          "output_type": "stream",
          "name": "stderr",
          "text": [
            "\r[*********************100%%**********************]  1 of 1 completed\n"
          ]
        },
        {
          "output_type": "stream",
          "name": "stdout",
          "text": [
            "1/1 [==============================] - 0s 117ms/step\n",
            "Predicted Stock Prices for the next 4 days:  [[187.50714]]\n"
          ]
        }
      ]
    },
    {
      "cell_type": "code",
      "source": [
        "import yfinance as yf\n",
        "import numpy as np\n",
        "from sklearn.preprocessing import MinMaxScaler\n",
        "\n",
        "# Fetch the latest 60 days of AAPL stock data\n",
        "data = yf.download('AAPL', period='3mo', interval='1d')\n",
        "\n",
        "# Select 'Close' price and scale it\n",
        "closing_prices = data['Close'].values.reshape(-1, 1)\n",
        "scaler = MinMaxScaler(feature_range=(0, 1))\n",
        "scaled_data = scaler.fit_transform(closing_prices)\n",
        "\n",
        "# Predict the next 4 days iteratively\n",
        "predicted_prices = []\n",
        "current_batch = scaled_data[-60:].reshape(1, 60, 1)  # Most recent 60 days\n",
        "\n",
        "for i in range(4):  # Predicting 4 days\n",
        "    # Get the prediction (next day)\n",
        "    next_prediction = model.predict(current_batch)\n",
        "\n",
        "    # Reshape the prediction to fit the batch dimension\n",
        "    next_prediction_reshaped = next_prediction.reshape(1, 1, 1)\n",
        "\n",
        "    # Append the prediction to the batch used for predicting\n",
        "    current_batch = np.append(current_batch[:, 1:, :], next_prediction_reshaped, axis=1)\n",
        "\n",
        "    # Inverse transform the prediction to the original price scale\n",
        "    predicted_prices.append(scaler.inverse_transform(next_prediction)[0, 0])\n",
        "\n",
        "print(\"Predicted Stock Prices for the next 4 days: \", predicted_prices)"
      ],
      "metadata": {
        "colab": {
          "base_uri": "https://localhost:8080/"
        },
        "id": "1-FkzayuXqd3",
        "outputId": "3bf997f6-39c9-4211-e129-260bf277e7c9"
      },
      "execution_count": 47,
      "outputs": [
        {
          "output_type": "stream",
          "name": "stderr",
          "text": [
            "\r[*********************100%%**********************]  1 of 1 completed"
          ]
        },
        {
          "output_type": "stream",
          "name": "stdout",
          "text": [
            "1/1 [==============================] - 0s 18ms/step\n",
            "1/1 [==============================] - 0s 30ms/step\n"
          ]
        },
        {
          "output_type": "stream",
          "name": "stderr",
          "text": [
            "\n"
          ]
        },
        {
          "output_type": "stream",
          "name": "stdout",
          "text": [
            "1/1 [==============================] - 0s 30ms/step\n",
            "1/1 [==============================] - 0s 28ms/step\n",
            "Predicted Stock Prices for the next 4 days:  [187.50714, 186.86244, 186.23384, 185.82748]\n"
          ]
        }
      ]
    },
    {
      "cell_type": "markdown",
      "source": [
        "## Visualization"
      ],
      "metadata": {
        "id": "vmCGCGmeYjDe"
      }
    },
    {
      "cell_type": "code",
      "source": [
        "!pip install mplfinance -qqq\n",
        "import pandas as pd\n",
        "import mplfinance as mpf\n",
        "import matplotlib.dates as mpl_dates\n",
        "import matplotlib.pyplot as plt\n",
        "\n",
        "# Assuming 'data' is your DataFrame with the fetched AAPL stock data\n",
        "# Make sure it contains Open, High, Low, Close, and Volume columns\n",
        "\n",
        "# Creating a list of dates for the predictions\n",
        "last_date = data.index[-1]\n",
        "next_day = last_date + pd.Timedelta(days=1)\n",
        "prediction_dates = pd.date_range(start=next_day, periods=4)\n",
        "\n",
        "# Assuming 'predicted_prices' is your list of predicted prices for the next 4 days\n",
        "predictions_df = pd.DataFrame(index=prediction_dates, data=predicted_prices, columns=['Close'])\n",
        "\n",
        "# Plotting the actual data with mplfinance\n",
        "mpf.plot(data, type='candle', style='charles', volume=True)\n",
        "\n",
        "# Overlaying the predicted data\n",
        "plt.figure(figsize=(10,6))\n",
        "plt.plot(predictions_df.index, predictions_df['Close'], linestyle='dashed', marker='o', color='red')\n",
        "\n",
        "plt.title(\"AAPL Stock Price with Predicted Next 4 Days\")\n",
        "plt.show()"
      ],
      "metadata": {
        "colab": {
          "base_uri": "https://localhost:8080/",
          "height": 1000
        },
        "id": "tfAvIltDYcHu",
        "outputId": "e31d48be-e6cc-4946-ac11-be82e30ff8df"
      },
      "execution_count": 48,
      "outputs": [
        {
          "output_type": "stream",
          "name": "stdout",
          "text": [
            "\u001b[?25l     \u001b[90m━━━━━━━━━━━━━━━━━━━━━━━━━━━━━━━━━━━━━━━━\u001b[0m \u001b[32m0.0/75.0 kB\u001b[0m \u001b[31m?\u001b[0m eta \u001b[36m-:--:--\u001b[0m\r\u001b[2K     \u001b[90m━━━━━━━━━━━━━━━━━━━━━━━━━━━━━━━━━━━━━━━━\u001b[0m \u001b[32m75.0/75.0 kB\u001b[0m \u001b[31m2.2 MB/s\u001b[0m eta \u001b[36m0:00:00\u001b[0m\n",
            "\u001b[?25h"
          ]
        },
        {
          "output_type": "display_data",
          "data": {
            "text/plain": [
              "<Figure size 800x575 with 4 Axes>"
            ],
            "image/png": "[encoded data removed]"
          },
          "metadata": {}
        },
        {
          "output_type": "display_data",
          "data": {
            "text/plain": [
              "<Figure size 1000x600 with 1 Axes>"
            ],
            "image/png": "[encoded data removed]"
          },
          "metadata": {}
        }
      ]
    },
    {
      "cell_type": "code",
      "source": [
        "import pandas as pd\n",
        "import mplfinance as mpf\n",
        "import matplotlib.dates as mpl_dates\n",
        "import matplotlib.pyplot as plt\n",
        "\n",
        "# Fetch the latest 60 days of AAPL stock data\n",
        "data = yf.download('AAPL', period='3mo', interval='1d') # Fetch 64 days to display last 60 days in the chart\n",
        "\n",
        "# Select 'Close' price and scale it\n",
        "closing_prices = data['Close'].values.reshape(-1, 1)\n",
        "scaler = MinMaxScaler(feature_range=(0, 1))\n",
        "scaled_data = scaler.fit_transform(closing_prices)\n",
        "\n",
        "# Predict the next 4 days iteratively\n",
        "predicted_prices = []\n",
        "current_batch = scaled_data[-60:].reshape(1, 60, 1)  # Most recent 60 days\n",
        "\n",
        "for i in range(4):  # Predicting 4 days\n",
        "    next_prediction = model.predict(current_batch)\n",
        "    next_prediction_reshaped = next_prediction.reshape(1, 1, 1)\n",
        "    current_batch = np.append(current_batch[:, 1:, :], next_prediction_reshaped, axis=1)\n",
        "    predicted_prices.append(scaler.inverse_transform(next_prediction)[0, 0])\n",
        "\n",
        "# Creating a list of dates for the predictions\n",
        "last_date = data.index[-1]\n",
        "next_day = last_date + pd.Timedelta(days=1)\n",
        "prediction_dates = pd.date_range(start=next_day, periods=4)\n",
        "\n",
        "# Adding predictions to the DataFrame\n",
        "predicted_data = pd.DataFrame(index=prediction_dates, data=predicted_prices, columns=['Close'])\n",
        "\n",
        "# Combining both actual and predicted data\n",
        "combined_data = pd.concat([data['Close'], predicted_data['Close']])\n",
        "combined_data = combined_data[-64:] # Last 60 days of actual data + 4 days of predictions\n",
        "\n",
        "# Plotting the actual data\n",
        "plt.figure(figsize=(10,6))\n",
        "plt.plot(data.index[-60:], data['Close'][-60:], linestyle='-', marker='o', color='blue', label='Actual Data')\n",
        "\n",
        "# Plotting the predicted data\n",
        "plt.plot(prediction_dates, predicted_prices, linestyle='-', marker='o', color='red', label='Predicted Data')\n",
        "\n",
        "plt.title(\"AAPL Stock Price: Last 60 Days and Next 4 Days Predicted\")\n",
        "plt.xlabel('Date')\n",
        "plt.ylabel('Price')\n",
        "plt.legend()\n",
        "plt.show()"
      ],
      "metadata": {
        "colab": {
          "base_uri": "https://localhost:8080/",
          "height": 655
        },
        "id": "reIvte30Ykyn",
        "outputId": "4f24988d-f5c3-4619-c242-dd88014fe3ef"
      },
      "execution_count": 50,
      "outputs": [
        {
          "output_type": "stream",
          "name": "stderr",
          "text": [
            "\r[*********************100%%**********************]  1 of 1 completed\n"
          ]
        },
        {
          "output_type": "stream",
          "name": "stdout",
          "text": [
            "1/1 [==============================] - 0s 82ms/step\n",
            "1/1 [==============================] - 0s 92ms/step\n",
            "1/1 [==============================] - 0s 76ms/step\n",
            "1/1 [==============================] - 0s 47ms/step\n"
          ]
        },
        {
          "output_type": "display_data",
          "data": {
            "text/plain": [
              "<Figure size 1000x600 with 1 Axes>"
            ],
            "image/png": "[encoded data removed]"
          },
          "metadata": {}
        }
      ]
    },
    {
      "cell_type": "code",
      "source": [],
      "metadata": {
        "id": "w8d-8wroY33t"
      },
      "execution_count": null,
      "outputs": []
    }
  ]
}